{
 "cells": [
  {
   "cell_type": "markdown",
   "id": "b19ecb21",
   "metadata": {},
   "source": [
    "# Data preprocessing"
   ]
  },
  {
   "cell_type": "code",
   "execution_count": 1,
   "id": "de28c8c6",
   "metadata": {},
   "outputs": [],
   "source": [
    "import numpy as np\n",
    "import pandas as pd"
   ]
  },
  {
   "cell_type": "code",
   "execution_count": 2,
   "id": "a62dcc99",
   "metadata": {},
   "outputs": [],
   "source": [
    "data = pd.read_csv('./data/driving_log.csv',names=['center','left','right','steering','throttle','reverse','speed'])"
   ]
  },
  {
   "cell_type": "code",
   "execution_count": 3,
   "id": "f081fdc5",
   "metadata": {},
   "outputs": [],
   "source": [
    "# counts: frequency\n",
    "# angle: range of angle"
   ]
  },
  {
   "cell_type": "code",
   "execution_count": 4,
   "id": "e1a2e57a",
   "metadata": {},
   "outputs": [
    {
     "data": {
      "text/plain": [
       "(array([   0,    0,    1,    4,   11,   31,   85,  207,  234,  175, 3795,\n",
       "         193,  150,   71,   23,   15,    3,    0,    0,    0], dtype=int64),\n",
       " array([-1. , -0.9, -0.8, -0.7, -0.6, -0.5, -0.4, -0.3, -0.2, -0.1,  0. ,\n",
       "         0.1,  0.2,  0.3,  0.4,  0.5,  0.6,  0.7,  0.8,  0.9,  1. ]))"
      ]
     },
     "execution_count": 4,
     "metadata": {},
     "output_type": "execute_result"
    }
   ],
   "source": [
    "counts ,angle = np.histogram(data['steering'],20,(-1,1))\n",
    "counts ,angle"
   ]
  },
  {
   "cell_type": "code",
   "execution_count": 5,
   "id": "16ccc46e",
   "metadata": {},
   "outputs": [
    {
     "data": {
      "text/plain": [
       "array([-0.95, -0.85, -0.75, -0.65, -0.55, -0.45, -0.35, -0.25, -0.15,\n",
       "       -0.05,  0.05,  0.15,  0.25,  0.35,  0.45,  0.55,  0.65,  0.75,\n",
       "        0.85,  0.95])"
      ]
     },
     "execution_count": 5,
     "metadata": {},
     "output_type": "execute_result"
    }
   ],
   "source": [
    "center = (angle[:-1]+angle[1:])/2\n",
    "center"
   ]
  },
  {
   "cell_type": "code",
   "execution_count": 6,
   "id": "f1cb279e",
   "metadata": {},
   "outputs": [
    {
     "data": {
      "text/plain": [
       "<BarContainer object of 20 artists>"
      ]
     },
     "execution_count": 6,
     "metadata": {},
     "output_type": "execute_result"
    },
    {
     "data": {
      "image/png": "[encoded data removed]",
      "text/plain": [
       "<Figure size 432x288 with 1 Axes>"
      ]
     },
     "metadata": {
      "needs_background": "light"
     },
     "output_type": "display_data"
    }
   ],
   "source": [
    "import matplotlib.pyplot as plt\n",
    "plt.bar(center,counts,width=0.1)"
   ]
  },
  {
   "cell_type": "code",
   "execution_count": 7,
   "id": "274cf301",
   "metadata": {},
   "outputs": [
    {
     "data": {
      "text/plain": [
       "<BarContainer object of 20 artists>"
      ]
     },
     "execution_count": 7,
     "metadata": {},
     "output_type": "execute_result"
    },
    {
     "data": {
      "image/png": "[encoded data removed]",
      "text/plain": [
       "<Figure size 432x288 with 1 Axes>"
      ]
     },
     "metadata": {
      "needs_background": "light"
     },
     "output_type": "display_data"
    }
   ],
   "source": [
    "plt.plot((-1,1),(500,500))\n",
    "plt.bar(center,counts,width=0.1)"
   ]
  },
  {
   "cell_type": "code",
   "execution_count": 8,
   "id": "362a328f",
   "metadata": {},
   "outputs": [
    {
     "name": "stdout",
     "output_type": "stream",
     "text": [
      "3599\n"
     ]
    }
   ],
   "source": [
    "## According to the distribution law of the data, delete some training data with a lot of results.\n",
    "## Record the position information of all straight (the angle of the steering wheel is 0) data\n",
    "\n",
    "list = []\n",
    "for i in range (0,len(data['steering'])):\n",
    "    if data['steering'][i]==0:\n",
    "        list.append(i)\n",
    "print(len(list))"
   ]
  },
  {
   "cell_type": "code",
   "execution_count": 9,
   "id": "c9314378",
   "metadata": {},
   "outputs": [
    {
     "name": "stdout",
     "output_type": "stream",
     "text": [
      "3099\n"
     ]
    }
   ],
   "source": [
    "np.random.shuffle(list)\n",
    "remove_list = list[500:]\n",
    "print(len(remove_list))"
   ]
  },
  {
   "cell_type": "code",
   "execution_count": 10,
   "id": "0879abc2",
   "metadata": {},
   "outputs": [],
   "source": [
    "data.drop(remove_list,inplace=True)"
   ]
  },
  {
   "cell_type": "code",
   "execution_count": 11,
   "id": "8f6c08e3",
   "metadata": {},
   "outputs": [
    {
     "data": {
      "text/plain": [
       "<BarContainer object of 20 artists>"
      ]
     },
     "execution_count": 11,
     "metadata": {},
     "output_type": "execute_result"
    },
    {
     "data": {
      "image/png": "[encoded data removed]",
      "text/plain": [
       "<Figure size 432x288 with 1 Axes>"
      ]
     },
     "metadata": {
      "needs_background": "light"
     },
     "output_type": "display_data"
    }
   ],
   "source": [
    "counts ,angle = np.histogram(data['steering'],20)\n",
    "center = (angle[:-1]+angle[1:])/2\n",
    "plt.bar(center,counts,width=0.1)"
   ]
  },
  {
   "cell_type": "code",
   "execution_count": 12,
   "id": "1fec0f58",
   "metadata": {},
   "outputs": [],
   "source": [
    "info = data[['center','steering']]\n",
    "info.to_csv('info.csv')"
   ]
  },
  {
   "cell_type": "markdown",
   "id": "a27fe26b",
   "metadata": {},
   "source": [
    "# Split data into train and val"
   ]
  },
  {
   "cell_type": "code",
   "execution_count": 13,
   "id": "b6c78a88",
   "metadata": {},
   "outputs": [],
   "source": [
    "from sklearn.model_selection import train_test_split\n",
    "X_train ,X_test,y_train,y_test = train_test_split(info['center'],info['steering'],test_size=0.15,random_state=20)"
   ]
  },
  {
   "cell_type": "code",
   "execution_count": 14,
   "id": "d207179e",
   "metadata": {},
   "outputs": [
    {
     "name": "stdout",
     "output_type": "stream",
     "text": [
      "train data length1614,val data length285\n"
     ]
    }
   ],
   "source": [
    "print(\"train data length{},val data length{}\".format(len(X_train),len(X_test)))"
   ]
  },
  {
   "cell_type": "code",
   "execution_count": 58,
   "id": "0f42e56e",
   "metadata": {},
   "outputs": [
    {
     "data": {
      "text/plain": [
       "(array([ 1.,  0.,  2.,  2.,  3.,  6., 10., 20., 24., 22., 22., 92., 15.,\n",
       "        26., 11.,  8., 10.,  6.,  2.,  3.]),\n",
       " array([-0.6843076 , -0.62307992, -0.56185224, -0.50062456, -0.43939688,\n",
       "        -0.3781692 , -0.31694152, -0.25571384, -0.19448616, -0.13325848,\n",
       "        -0.0720308 , -0.01080312,  0.05042456,  0.11165224,  0.17287992,\n",
       "         0.2341076 ,  0.29533528,  0.35656296,  0.41779064,  0.47901832,\n",
       "         0.540246  ]),\n",
       " <BarContainer object of 20 artists>)"
      ]
     },
     "execution_count": 58,
     "metadata": {},
     "output_type": "execute_result"
    },
    {
     "data": {
      "image/png": "[encoded data removed]",
      "text/plain": [
       "<Figure size 432x288 with 2 Axes>"
      ]
     },
     "metadata": {
      "needs_background": "light"
     },
     "output_type": "display_data"
    }
   ],
   "source": [
    "plt.subplot(121)\n",
    "plt.hist(y_train,20,width=0.1)\n",
    "plt.subplot(122)\n",
    "plt.hist(y_test,20,width=0.1)"
   ]
  },
  {
   "cell_type": "code",
   "execution_count": 59,
   "id": "fb13a82e",
   "metadata": {},
   "outputs": [],
   "source": [
    "import cv2"
   ]
  },
  {
   "cell_type": "markdown",
   "id": "f9c9b5e1",
   "metadata": {},
   "source": [
    "# rgb->yuv format and adjust width and height"
   ]
  },
  {
   "cell_type": "code",
   "execution_count": 69,
   "id": "538d975b",
   "metadata": {},
   "outputs": [
    {
     "data": {
      "text/plain": [
       "<matplotlib.image.AxesImage at 0x1ef1906f3c8>"
      ]
     },
     "execution_count": 69,
     "metadata": {},
     "output_type": "execute_result"
    },
    {
     "data": {
      "image/png": "[encoded data removed]",
      "text/plain": [
       "<Figure size 432x288 with 1 Axes>"
      ]
     },
     "metadata": {
      "needs_background": "light"
     },
     "output_type": "display_data"
    }
   ],
   "source": [
    "index  = np.random.randint(0,len(X_train))\n",
    "img = plt.imread(X_train.iloc[index])\n",
    "img = img[55:150,:]\n",
    "img = cv2.GaussianBlur(img,(3,3),1)\n",
    "img = cv2.resize(img,(200,66))\n",
    "img = cv2.cvtColor(img,cv2.COLOR_RGB2YUV)\n",
    "plt.imshow(img)"
   ]
  },
  {
   "cell_type": "markdown",
   "id": "ba6da277",
   "metadata": {},
   "source": [
    "# Prepare data for CNN"
   ]
  },
  {
   "cell_type": "code",
   "execution_count": 70,
   "id": "91e78bda",
   "metadata": {},
   "outputs": [],
   "source": [
    "def img_pre(img_path):\n",
    "    img = plt.imread(X_train.iloc[index])\n",
    "    img = img[55:150,:]\n",
    "    img = cv2.GaussianBlur(img,(3,3),1)\n",
    "    img = cv2.resize(img,(200,66))\n",
    "    img = cv2.cvtColor(img,cv2.COLOR_RGB2YUV)\n",
    "    return img"
   ]
  },
  {
   "cell_type": "code",
   "execution_count": 72,
   "id": "1b764ce7",
   "metadata": {},
   "outputs": [],
   "source": [
    "trainImage = []\n",
    "for i in range (0,len(X_train)):\n",
    "    img = img_pre(X_train.iloc[i])\n",
    "    img = img/255.0\n",
    "    trainImage.append(img)\n",
    "X_train_images = np.array(trainImage)"
   ]
  },
  {
   "cell_type": "code",
   "execution_count": 73,
   "id": "535ae837",
   "metadata": {},
   "outputs": [],
   "source": [
    "testImage = []\n",
    "for i in range (0,len(X_test)):\n",
    "    img = img_pre(X_test.iloc[i])\n",
    "    img = img/255.0\n",
    "    testImage.append(img)\n",
    "X_test_images = np.array(testImage)"
   ]
  },
  {
   "cell_type": "code",
   "execution_count": 74,
   "id": "f5bcbcdf",
   "metadata": {},
   "outputs": [],
   "source": [
    "y_train = y_train.to_numpy()\n",
    "y_test = y_test.to_numpy()"
   ]
  },
  {
   "cell_type": "code",
   "execution_count": 77,
   "id": "0cc4af57",
   "metadata": {},
   "outputs": [],
   "source": [
    "np.savez('X_train.npz',X_train_images)\n",
    "np.savez('X_test.npz',X_test_images)\n",
    "np.savez('y_train.npz',y_train)\n",
    "np.savez('y_test.npz',y_test)"
   ]
  }
 ],
 "metadata": {
  "kernelspec": {
   "display_name": "Python 3 (ipykernel)",
   "language": "python",
   "name": "python3"
  },
  "language_info": {
   "codemirror_mode": {
    "name": "ipython",
    "version": 3
   },
   "file_extension": ".py",
   "mimetype": "text/x-python",
   "name": "python",
   "nbconvert_exporter": "python",
   "pygments_lexer": "ipython3",
   "version": "3.7.11"
  }
 },
 "nbformat": 4,
 "nbformat_minor": 5
}
