{
 "cells": [
  {
   "cell_type": "code",
   "execution_count": null,
   "id": "adb5f3ba",
   "metadata": {},
   "outputs": [
    {
     "name": "stderr",
     "output_type": "stream",
     "text": [
      "(16816) wsgi starting up on http://0.0.0.0:4567\n",
      "(16816) accepted ('127.0.0.1', 62807)\n"
     ]
    },
    {
     "name": "stdout",
     "output_type": "stream",
     "text": [
      "websocket建立起来了\n"
     ]
    },
    {
     "name": "stderr",
     "output_type": "stream",
     "text": [
      "127.0.0.1 - - [17/Jan/2022 18:51:00] \"GET /socket.io/?EIO=4&transport=websocket HTTP/1.1\" 200 0 47.777541\n"
     ]
    }
   ],
   "source": [
    "import eventlet\n",
    "import socketio\n",
    "from flask import Flask\n",
    "from io import BytesIO\n",
    "from PIL import Image\n",
    "import cv2\n",
    "import base64\n",
    "import numpy as np\n",
    "import tensorflow as tf\n",
    "\n",
    "\n",
    "model = tf.keras.models.load_model('004.h5')\n",
    "sio = socketio.Server() ## create a socketio\n",
    "app = Flask(__name__)\n",
    "\n",
    "speed_limit = 20\n",
    "\n",
    "@sio.on('connect')\n",
    "def connect(sid,env):\n",
    "    print(\"websocket建立起来了\")\n",
    "    ## websocket has been setup\n",
    "    \n",
    "    \n",
    "@sio.on('telemetry')\n",
    "def telemetry(sid,data):\n",
    "    image = Image.open(BytesIO(base64.b64decode(data['image'])))\n",
    "    image = np.asarray(image)\n",
    "#    image = cv2.cvtColor(image,cv2.COLOR_RGB2BGR)\n",
    "    cv2.imshow(\"camera\",image)\n",
    "    cv2.waitKey(10)\n",
    "    \n",
    "    ## get the angle according to picture\n",
    "    image = image[60:135,:,:]\n",
    "    image = cv2.GaussianBlur(image,(3,3),1)\n",
    "    image = cv2.resize(image,(200,66))\n",
    "    image = cv2.cvtColor(image,cv2.COLOR_RGB2YUV)\n",
    "    \n",
    "    image  = image/255.0\n",
    "    angle = model.predict(image.reshape(1,66,200,3))[0][0]\n",
    "    \n",
    "    \n",
    "    ## current speed and throttle\n",
    "    speed = float(data['speed'])\n",
    "    throttle = 1.0 - speed/ speed_limit\n",
    "    \n",
    "    ## send angle to simulator server\n",
    "    sio.emit(\"steer\",data={\n",
    "        'steering_angle':(angle-0.085).__str__(),\n",
    "        'throttle': throttle.__str__()\n",
    "    })\n",
    "    \n",
    "\n",
    "if __name__=='__main__':\n",
    "    # 把connenct local web and socketio\n",
    "    app = socketio.Middleware(sio,app)\n",
    "    # monitor socket\n",
    "    eventlet.wsgi.server(eventlet.listen(('',4567)),app)"
   ]
  },
  {
   "cell_type": "code",
   "execution_count": null,
   "id": "0bb35677",
   "metadata": {},
   "outputs": [],
   "source": []
  }
 ],
 "metadata": {
  "kernelspec": {
   "display_name": "Python 3 (ipykernel)",
   "language": "python",
   "name": "python3"
  },
  "language_info": {
   "codemirror_mode": {
    "name": "ipython",
    "version": 3
   },
   "file_extension": ".py",
   "mimetype": "text/x-python",
   "name": "python",
   "nbconvert_exporter": "python",
   "pygments_lexer": "ipython3",
   "version": "3.7.11"
  }
 },
 "nbformat": 4,
 "nbformat_minor": 5
}
