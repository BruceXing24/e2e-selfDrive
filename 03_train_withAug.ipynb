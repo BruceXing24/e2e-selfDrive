{
 "cells": [
  {
   "cell_type": "code",
   "execution_count": 1,
   "id": "3bb760b4",
   "metadata": {},
   "outputs": [],
   "source": [
    "import numpy as np\n",
    "import pandas as pd\n",
    "import matplotlib.pyplot as plt\n",
    "data = pd.read_csv('info.csv')"
   ]
  },
  {
   "cell_type": "code",
   "execution_count": 2,
   "id": "43967e0c",
   "metadata": {},
   "outputs": [
    {
     "name": "stdout",
     "output_type": "stream",
     "text": [
      "train length1519,val length380\n"
     ]
    }
   ],
   "source": [
    "from sklearn.model_selection import train_test_split\n",
    "X_train,X_test,y_train,y_test = train_test_split(data['center'],data['steering'],test_size =0.2 ,random_state=25)\n",
    "print(\"train length{},val length{}\".format(len(X_train),len(X_test)))"
   ]
  },
  {
   "cell_type": "code",
   "execution_count": 21,
   "id": "27da2c09",
   "metadata": {},
   "outputs": [],
   "source": [
    "from imgaug import augmenters as iaa\n",
    "import numpy as np\n",
    "\n",
    "def zoom_img(img):\n",
    "    # get a resizer for an image\n",
    "    zoom = iaa.Affine(scale=(1.0,1.3))\n",
    "    return zoom.augment_image(img)\n",
    "def trans_img(img):\n",
    "    # get an image translator\n",
    "    trans = iaa.Affine(translate_percent={'x':(-0.1,0.1),'y':(-0.1,0.1)})\n",
    "    return trans.augment_image(img)\n",
    "def img_random_brightness(img):\n",
    "   #Data Enhancer for Luminance Transform\n",
    "    brightness = iaa.Multiply((0.3,1.2))\n",
    "    return brightness.augment_image(img)\n",
    "def img_gaussian_blur(img):\n",
    "    #Gaussian Blur Data Augmenter\n",
    "    gaussian_blur = iaa.GaussianBlur(sigma=(0.1,3))\n",
    "    return gaussian_blur.augment_image(img)\n",
    "def img_motion_blur(img):\n",
    "     #motion Data Augmenter\n",
    "    motion_blur = iaa.MotionBlur()\n",
    "    return motion_blur.augment_image(img)\n",
    "# def img_flip(img,steering_angle):\n",
    "#     flip = iaa.Fliplr(1.0)\n",
    "#     return flip.augment_image(img),-steering_angle\n",
    "\n",
    "## 自定义组合算法， 随机的数据增强。\n",
    "## path，图片路径。 steering_angle方向盘角度\n",
    "def random_augment(path,steering_angle):\n",
    "    image = plt.imread(path)\n",
    "    if np.random.rand()<0.5:\n",
    "        image = zoom_img(image)\n",
    "    if np.random.rand()<0.5:\n",
    "        image = trans_img(image)\n",
    "    if np.random.rand()<0.5:\n",
    "        image = img_random_brightness(image)\n",
    "    if np.random.rand()<0.5:\n",
    "        image = img_gaussian_blur(image)\n",
    "    if np.random.rand()<0.5:\n",
    "        image = img_motion_blur(image)\n",
    "#     if np.random.rand()<0.5:\n",
    "#         image,steering_angle = img_flip(image,steering_angle)   \n",
    "    return image,steering_angle"
   ]
  },
  {
   "cell_type": "code",
   "execution_count": 22,
   "id": "954307e8",
   "metadata": {},
   "outputs": [],
   "source": [
    "import cv2\n",
    "def train_batch_generator(batch_size):\n",
    "    while True:\n",
    "        batch_img = [] # 批量生成的图片\n",
    "        batch_angle = [] # 每个图片对应一个角度\n",
    "        for i in range(batch_size):\n",
    "            ## 从原始的训练集里面随机获取一张照片\n",
    "            index = np.random.randint(0,len(X_train))\n",
    "            ## 获取训练集图片的路径\n",
    "            path = X_train.iloc[index]\n",
    "            ## 获取训练集图片对应的方向盘角度\n",
    "            angle = float(y_train.iloc[index])         \n",
    "            newimg, newangle = random_augment(path,angle)\n",
    "            ## 对训练数据进行预处理\n",
    "            newimg = newimg[60:135,:,:]\n",
    "            newimg = cv2.GaussianBlur(newimg,(3,3),1)\n",
    "            newimg = cv2.resize(newimg,(200,66))\n",
    "            newimg = cv2.cvtColor(newimg,cv2.COLOR_RGB2YUV)\n",
    "            newimg = newimg/255.0\n",
    "            \n",
    "            batch_img.append(newimg)\n",
    "            batch_angle.append(newangle)\n",
    "        yield np.array(batch_img),np.array(batch_angle)"
   ]
  },
  {
   "cell_type": "code",
   "execution_count": 23,
   "id": "09a89fdb",
   "metadata": {},
   "outputs": [],
   "source": [
    "import cv2\n",
    "def test_batch_generator(batch_size):\n",
    "    while True:\n",
    "        batch_img = [] # 批量生成的图片\n",
    "        batch_angle = [] # 每个图片对应一个角度\n",
    "        for i in range(batch_size):\n",
    "            ## 从原始的训练集里面随机获取一张照片\n",
    "            index = np.random.randint(0,len(X_test))\n",
    "            ## 获取训练集图片的路径\n",
    "            path = X_test.iloc[index]\n",
    "            ## 获取训练集图片对应的方向盘角度\n",
    "            angle = float(y_test.iloc[index])         \n",
    "            newimg, newangle = random_augment(path,angle)\n",
    "            ## 对训练数据进行预处理\n",
    "            newimg = newimg[60:135,:,:]\n",
    "            newimg = cv2.GaussianBlur(newimg,(3,3),1)\n",
    "            newimg = cv2.resize(newimg,(200,66))\n",
    "            newimg = cv2.cvtColor(newimg,cv2.COLOR_RGB2YUV)\n",
    "            newimg = newimg/255.0\n",
    "            \n",
    "            batch_img.append(newimg)\n",
    "            batch_angle.append(newangle)\n",
    "        yield np.array(batch_img),np.array(batch_angle)"
   ]
  },
  {
   "cell_type": "code",
   "execution_count": 24,
   "id": "07e1fece",
   "metadata": {},
   "outputs": [
    {
     "name": "stdout",
     "output_type": "stream",
     "text": [
      "Model: \"sequential_2\"\n",
      "_________________________________________________________________\n",
      " Layer (type)                Output Shape              Param #   \n",
      "=================================================================\n",
      " conv2d_10 (Conv2D)          (None, 31, 98, 24)        1824      \n",
      "                                                                 \n",
      " conv2d_11 (Conv2D)          (None, 14, 47, 36)        21636     \n",
      "                                                                 \n",
      " conv2d_12 (Conv2D)          (None, 5, 22, 48)         43248     \n",
      "                                                                 \n",
      " conv2d_13 (Conv2D)          (None, 3, 20, 64)         27712     \n",
      "                                                                 \n",
      " conv2d_14 (Conv2D)          (None, 1, 18, 64)         36928     \n",
      "                                                                 \n",
      " dropout_8 (Dropout)         (None, 1, 18, 64)         0         \n",
      "                                                                 \n",
      " flatten_2 (Flatten)         (None, 1152)              0         \n",
      "                                                                 \n",
      " dense_10 (Dense)            (None, 1164)              1342092   \n",
      "                                                                 \n",
      " dropout_9 (Dropout)         (None, 1164)              0         \n",
      "                                                                 \n",
      " dense_11 (Dense)            (None, 100)               116500    \n",
      "                                                                 \n",
      " dropout_10 (Dropout)        (None, 100)               0         \n",
      "                                                                 \n",
      " dense_12 (Dense)            (None, 50)                5050      \n",
      "                                                                 \n",
      " dropout_11 (Dropout)        (None, 50)                0         \n",
      "                                                                 \n",
      " dense_13 (Dense)            (None, 10)                510       \n",
      "                                                                 \n",
      " dense_14 (Dense)            (None, 1)                 11        \n",
      "                                                                 \n",
      "=================================================================\n",
      "Total params: 1,595,511\n",
      "Trainable params: 1,595,511\n",
      "Non-trainable params: 0\n",
      "_________________________________________________________________\n"
     ]
    }
   ],
   "source": [
    "import tensorflow as tf \n",
    "# 创建一个顺序模型\n",
    "model = tf.keras.Sequential()\n",
    "# normalnation后的第一层\n",
    "model.add(tf.keras.layers.Conv2D(24,(5,5),strides=(2,2),input_shape=(66,200,3),activation='elu'))\n",
    "# 第二层卷积\n",
    "model.add(tf.keras.layers.Conv2D(36,(5,5),strides=(2,2),activation='elu'))\n",
    "# 第三层卷积\n",
    "model.add(tf.keras.layers.Conv2D(48,(5,5),strides=(2,2),activation='elu'))\n",
    "# 第四层卷积\n",
    "model.add(tf.keras.layers.Conv2D(64,(3,3),activation='elu'))\n",
    "# 第五层卷积\n",
    "model.add(tf.keras.layers.Conv2D(64,(3,3),activation='elu'))\n",
    "\n",
    "# 防止训练过拟合\n",
    "model.add(tf.keras.layers.Dropout(0.5))\n",
    "\n",
    "# 全连接打平\n",
    "model.add(tf.keras.layers.Flatten())\n",
    "\n",
    "# 全连接的隐藏层\n",
    "model.add(tf.keras.layers.Dense(1164,activation='elu'))\n",
    "# 防止训练过拟合\n",
    "model.add(tf.keras.layers.Dropout(0.5))\n",
    "model.add(tf.keras.layers.Dense(100,activation='elu'))\n",
    "# 防止训练过拟合\n",
    "model.add(tf.keras.layers.Dropout(0.5))\n",
    "model.add(tf.keras.layers.Dense(50,activation='elu'))\n",
    "# 防止训练过拟合\n",
    "model.add(tf.keras.layers.Dropout(0.5))\n",
    "\n",
    "model.add(tf.keras.layers.Dense(10,activation='elu'))\n",
    "\n",
    "model.add(tf.keras.layers.Dense(1)) # 方向盘的角度。\n",
    "\n",
    "model.summary()"
   ]
  },
  {
   "cell_type": "code",
   "execution_count": 25,
   "id": "c48d1a62",
   "metadata": {},
   "outputs": [
    {
     "name": "stderr",
     "output_type": "stream",
     "text": [
      "C:\\Users\\77416\\anaconda3\\envs\\tfenv\\lib\\site-packages\\ipykernel_launcher.py:7: UserWarning: `Model.fit_generator` is deprecated and will be removed in a future version. Please use `Model.fit`, which supports generators.\n",
      "  import sys\n"
     ]
    },
    {
     "name": "stdout",
     "output_type": "stream",
     "text": [
      "Epoch 1/10\n",
      "10/10 [==============================] - 107s 12s/step - loss: 2.0814 - val_loss: 0.2581\n",
      "Epoch 2/10\n",
      "10/10 [==============================] - 102s 11s/step - loss: 0.6405 - val_loss: 0.0411\n",
      "Epoch 3/10\n",
      "10/10 [==============================] - 82s 9s/step - loss: 0.1734 - val_loss: 0.0395\n",
      "Epoch 4/10\n",
      "10/10 [==============================] - 81s 9s/step - loss: 0.0924 - val_loss: 0.0378\n",
      "Epoch 5/10\n",
      "10/10 [==============================] - 82s 9s/step - loss: 0.0618 - val_loss: 0.0383\n",
      "Epoch 6/10\n",
      "10/10 [==============================] - 95s 10s/step - loss: 0.0515 - val_loss: 0.0384\n",
      "Epoch 7/10\n",
      "10/10 [==============================] - 82s 9s/step - loss: 0.0470 - val_loss: 0.0383\n",
      "Epoch 8/10\n",
      "10/10 [==============================] - 87s 9s/step - loss: 0.0461 - val_loss: 0.0385\n",
      "Epoch 9/10\n",
      "10/10 [==============================] - 84s 9s/step - loss: 0.0460 - val_loss: 0.0387\n",
      "Epoch 10/10\n",
      "10/10 [==============================] - 84s 9s/step - loss: 0.0444 - val_loss: 0.0364\n"
     ]
    },
    {
     "data": {
      "text/plain": [
       "<keras.callbacks.History at 0x20314f840c8>"
      ]
     },
     "execution_count": 25,
     "metadata": {},
     "output_type": "execute_result"
    }
   ],
   "source": [
    "model.compile(optimizer='adam',loss='mse')\n",
    "## 使用数据增强器训练的话，api有细微差别\n",
    "model.fit_generator(train_batch_generator(1000),\n",
    "                    steps_per_epoch=10,\n",
    "                    epochs=10,\n",
    "                   validation_data=test_batch_generator(300),\n",
    "                    validation_steps=10\n",
    "                   )"
   ]
  },
  {
   "cell_type": "code",
   "execution_count": 27,
   "id": "b0c1a05a",
   "metadata": {},
   "outputs": [],
   "source": [
    "model.save('004.h5')"
   ]
  },
  {
   "cell_type": "code",
   "execution_count": null,
   "id": "04e600f8",
   "metadata": {},
   "outputs": [],
   "source": []
  }
 ],
 "metadata": {
  "kernelspec": {
   "display_name": "Python 3 (ipykernel)",
   "language": "python",
   "name": "python3"
  },
  "language_info": {
   "codemirror_mode": {
    "name": "ipython",
    "version": 3
   },
   "file_extension": ".py",
   "mimetype": "text/x-python",
   "name": "python",
   "nbconvert_exporter": "python",
   "pygments_lexer": "ipython3",
   "version": "3.7.11"
  }
 },
 "nbformat": 4,
 "nbformat_minor": 5
}
